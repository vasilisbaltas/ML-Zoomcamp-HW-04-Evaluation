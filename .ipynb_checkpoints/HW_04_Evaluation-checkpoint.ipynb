{
 "cells": [
  {
   "cell_type": "code",
   "execution_count": 1,
   "id": "8461ae7b-cc57-4c37-8dda-3df397424d1d",
   "metadata": {},
   "outputs": [],
   "source": [
    "import pandas as pd\n",
    "import numpy as np\n",
    "import matplotlib.pyplot as plt\n",
    "from sklearn.model_selection import train_test_split\n",
    "from sklearn.feature_extraction import DictVectorizer\n",
    "from sklearn.linear_model import LogisticRegression"
   ]
  },
  {
   "cell_type": "code",
   "execution_count": 3,
   "id": "124141d9-3a97-4f36-ac55-7d3f8d724eba",
   "metadata": {},
   "outputs": [
    {
     "name": "stderr",
     "output_type": "stream",
     "text": [
      "  % Total    % Received % Xferd  Average Speed   Time    Time     Time  Current\n",
      "                                 Dload  Upload   Total   Spent    Left  Speed\n",
      "\n",
      "  0     0    0     0    0     0      0      0 --:--:-- --:--:-- --:--:--     0\n",
      "  1 1440k    1 15458    0     0  46127      0  0:00:31 --:--:--  0:00:31 46281\n",
      "100 1440k  100 1440k    0     0  1159k      0  0:00:01  0:00:01 --:--:-- 1161k\n"
     ]
    }
   ],
   "source": [
    "!curl -LJO https://raw.githubusercontent.com/alexeygrigorev/mlbookcamp-code/master/chapter-02-car-price/data.csv"
   ]
  },
  {
   "cell_type": "code",
   "execution_count": 4,
   "id": "41bfd023-ffc5-4983-907a-7b753e4f2f52",
   "metadata": {},
   "outputs": [],
   "source": [
    "data = pd.read_csv('data.csv')"
   ]
  },
  {
   "cell_type": "code",
   "execution_count": 5,
   "id": "001ee677-cd67-417b-aca7-b7ea9934e098",
   "metadata": {},
   "outputs": [
    {
     "data": {
      "text/html": [
       "<div>\n",
       "<style scoped>\n",
       "    .dataframe tbody tr th:only-of-type {\n",
       "        vertical-align: middle;\n",
       "    }\n",
       "\n",
       "    .dataframe tbody tr th {\n",
       "        vertical-align: top;\n",
       "    }\n",
       "\n",
       "    .dataframe thead th {\n",
       "        text-align: right;\n",
       "    }\n",
       "</style>\n",
       "<table border=\"1\" class=\"dataframe\">\n",
       "  <thead>\n",
       "    <tr style=\"text-align: right;\">\n",
       "      <th></th>\n",
       "      <th>0</th>\n",
       "      <th>1</th>\n",
       "      <th>2</th>\n",
       "      <th>3</th>\n",
       "      <th>4</th>\n",
       "    </tr>\n",
       "  </thead>\n",
       "  <tbody>\n",
       "    <tr>\n",
       "      <th>Make</th>\n",
       "      <td>BMW</td>\n",
       "      <td>BMW</td>\n",
       "      <td>BMW</td>\n",
       "      <td>BMW</td>\n",
       "      <td>BMW</td>\n",
       "    </tr>\n",
       "    <tr>\n",
       "      <th>Model</th>\n",
       "      <td>1 Series M</td>\n",
       "      <td>1 Series</td>\n",
       "      <td>1 Series</td>\n",
       "      <td>1 Series</td>\n",
       "      <td>1 Series</td>\n",
       "    </tr>\n",
       "    <tr>\n",
       "      <th>Year</th>\n",
       "      <td>2011</td>\n",
       "      <td>2011</td>\n",
       "      <td>2011</td>\n",
       "      <td>2011</td>\n",
       "      <td>2011</td>\n",
       "    </tr>\n",
       "    <tr>\n",
       "      <th>Engine Fuel Type</th>\n",
       "      <td>premium unleaded (required)</td>\n",
       "      <td>premium unleaded (required)</td>\n",
       "      <td>premium unleaded (required)</td>\n",
       "      <td>premium unleaded (required)</td>\n",
       "      <td>premium unleaded (required)</td>\n",
       "    </tr>\n",
       "    <tr>\n",
       "      <th>Engine HP</th>\n",
       "      <td>335.0</td>\n",
       "      <td>300.0</td>\n",
       "      <td>300.0</td>\n",
       "      <td>230.0</td>\n",
       "      <td>230.0</td>\n",
       "    </tr>\n",
       "    <tr>\n",
       "      <th>Engine Cylinders</th>\n",
       "      <td>6.0</td>\n",
       "      <td>6.0</td>\n",
       "      <td>6.0</td>\n",
       "      <td>6.0</td>\n",
       "      <td>6.0</td>\n",
       "    </tr>\n",
       "    <tr>\n",
       "      <th>Transmission Type</th>\n",
       "      <td>MANUAL</td>\n",
       "      <td>MANUAL</td>\n",
       "      <td>MANUAL</td>\n",
       "      <td>MANUAL</td>\n",
       "      <td>MANUAL</td>\n",
       "    </tr>\n",
       "    <tr>\n",
       "      <th>Driven_Wheels</th>\n",
       "      <td>rear wheel drive</td>\n",
       "      <td>rear wheel drive</td>\n",
       "      <td>rear wheel drive</td>\n",
       "      <td>rear wheel drive</td>\n",
       "      <td>rear wheel drive</td>\n",
       "    </tr>\n",
       "    <tr>\n",
       "      <th>Number of Doors</th>\n",
       "      <td>2.0</td>\n",
       "      <td>2.0</td>\n",
       "      <td>2.0</td>\n",
       "      <td>2.0</td>\n",
       "      <td>2.0</td>\n",
       "    </tr>\n",
       "    <tr>\n",
       "      <th>Market Category</th>\n",
       "      <td>Factory Tuner,Luxury,High-Performance</td>\n",
       "      <td>Luxury,Performance</td>\n",
       "      <td>Luxury,High-Performance</td>\n",
       "      <td>Luxury,Performance</td>\n",
       "      <td>Luxury</td>\n",
       "    </tr>\n",
       "    <tr>\n",
       "      <th>Vehicle Size</th>\n",
       "      <td>Compact</td>\n",
       "      <td>Compact</td>\n",
       "      <td>Compact</td>\n",
       "      <td>Compact</td>\n",
       "      <td>Compact</td>\n",
       "    </tr>\n",
       "    <tr>\n",
       "      <th>Vehicle Style</th>\n",
       "      <td>Coupe</td>\n",
       "      <td>Convertible</td>\n",
       "      <td>Coupe</td>\n",
       "      <td>Coupe</td>\n",
       "      <td>Convertible</td>\n",
       "    </tr>\n",
       "    <tr>\n",
       "      <th>highway MPG</th>\n",
       "      <td>26</td>\n",
       "      <td>28</td>\n",
       "      <td>28</td>\n",
       "      <td>28</td>\n",
       "      <td>28</td>\n",
       "    </tr>\n",
       "    <tr>\n",
       "      <th>city mpg</th>\n",
       "      <td>19</td>\n",
       "      <td>19</td>\n",
       "      <td>20</td>\n",
       "      <td>18</td>\n",
       "      <td>18</td>\n",
       "    </tr>\n",
       "    <tr>\n",
       "      <th>Popularity</th>\n",
       "      <td>3916</td>\n",
       "      <td>3916</td>\n",
       "      <td>3916</td>\n",
       "      <td>3916</td>\n",
       "      <td>3916</td>\n",
       "    </tr>\n",
       "    <tr>\n",
       "      <th>MSRP</th>\n",
       "      <td>46135</td>\n",
       "      <td>40650</td>\n",
       "      <td>36350</td>\n",
       "      <td>29450</td>\n",
       "      <td>34500</td>\n",
       "    </tr>\n",
       "  </tbody>\n",
       "</table>\n",
       "</div>"
      ],
      "text/plain": [
       "                                                       0  \\\n",
       "Make                                                 BMW   \n",
       "Model                                         1 Series M   \n",
       "Year                                                2011   \n",
       "Engine Fuel Type             premium unleaded (required)   \n",
       "Engine HP                                          335.0   \n",
       "Engine Cylinders                                     6.0   \n",
       "Transmission Type                                 MANUAL   \n",
       "Driven_Wheels                           rear wheel drive   \n",
       "Number of Doors                                      2.0   \n",
       "Market Category    Factory Tuner,Luxury,High-Performance   \n",
       "Vehicle Size                                     Compact   \n",
       "Vehicle Style                                      Coupe   \n",
       "highway MPG                                           26   \n",
       "city mpg                                              19   \n",
       "Popularity                                          3916   \n",
       "MSRP                                               46135   \n",
       "\n",
       "                                             1                            2  \\\n",
       "Make                                       BMW                          BMW   \n",
       "Model                                 1 Series                     1 Series   \n",
       "Year                                      2011                         2011   \n",
       "Engine Fuel Type   premium unleaded (required)  premium unleaded (required)   \n",
       "Engine HP                                300.0                        300.0   \n",
       "Engine Cylinders                           6.0                          6.0   \n",
       "Transmission Type                       MANUAL                       MANUAL   \n",
       "Driven_Wheels                 rear wheel drive             rear wheel drive   \n",
       "Number of Doors                            2.0                          2.0   \n",
       "Market Category             Luxury,Performance      Luxury,High-Performance   \n",
       "Vehicle Size                           Compact                      Compact   \n",
       "Vehicle Style                      Convertible                        Coupe   \n",
       "highway MPG                                 28                           28   \n",
       "city mpg                                    19                           20   \n",
       "Popularity                                3916                         3916   \n",
       "MSRP                                     40650                        36350   \n",
       "\n",
       "                                             3                            4  \n",
       "Make                                       BMW                          BMW  \n",
       "Model                                 1 Series                     1 Series  \n",
       "Year                                      2011                         2011  \n",
       "Engine Fuel Type   premium unleaded (required)  premium unleaded (required)  \n",
       "Engine HP                                230.0                        230.0  \n",
       "Engine Cylinders                           6.0                          6.0  \n",
       "Transmission Type                       MANUAL                       MANUAL  \n",
       "Driven_Wheels                 rear wheel drive             rear wheel drive  \n",
       "Number of Doors                            2.0                          2.0  \n",
       "Market Category             Luxury,Performance                       Luxury  \n",
       "Vehicle Size                           Compact                      Compact  \n",
       "Vehicle Style                            Coupe                  Convertible  \n",
       "highway MPG                                 28                           28  \n",
       "city mpg                                    18                           18  \n",
       "Popularity                                3916                         3916  \n",
       "MSRP                                     29450                        34500  "
      ]
     },
     "execution_count": 5,
     "metadata": {},
     "output_type": "execute_result"
    }
   ],
   "source": [
    "data.head().T"
   ]
  },
  {
   "cell_type": "code",
   "execution_count": 6,
   "id": "0bf1ab81-e84f-49e0-beed-6735c1817277",
   "metadata": {},
   "outputs": [],
   "source": [
    "features = ['Make','Model','Year','Engine HP','Engine Cylinders','Transmission Type','Vehicle Style','highway MPG','city mpg','MSRP']"
   ]
  },
  {
   "cell_type": "code",
   "execution_count": 18,
   "id": "e14510d1-8f1b-407e-9bec-960fe98ab893",
   "metadata": {},
   "outputs": [
    {
     "name": "stdout",
     "output_type": "stream",
     "text": [
      "<class 'pandas.core.frame.DataFrame'>\n",
      "RangeIndex: 11914 entries, 0 to 11913\n",
      "Data columns (total 10 columns):\n",
      " #   Column             Non-Null Count  Dtype  \n",
      "---  ------             --------------  -----  \n",
      " 0   Make               11914 non-null  object \n",
      " 1   Model              11914 non-null  object \n",
      " 2   Year               11914 non-null  int64  \n",
      " 3   Engine HP          11845 non-null  float64\n",
      " 4   Engine Cylinders   11884 non-null  float64\n",
      " 5   Transmission Type  11914 non-null  object \n",
      " 6   Vehicle Style      11914 non-null  object \n",
      " 7   highway MPG        11914 non-null  int64  \n",
      " 8   city mpg           11914 non-null  int64  \n",
      " 9   MSRP               11914 non-null  int64  \n",
      "dtypes: float64(2), int64(4), object(4)\n",
      "memory usage: 930.9+ KB\n"
     ]
    }
   ],
   "source": [
    "df = data[features].copy()\n",
    "df.info()"
   ]
  },
  {
   "cell_type": "code",
   "execution_count": 19,
   "id": "8ee881a5-8724-4436-9959-2239b7fe1ca7",
   "metadata": {},
   "outputs": [],
   "source": [
    "for col in list(df.dtypes[df.dtypes == 'object'].index):\n",
    "    df[col] = df[col].str.lower().str.replace(' ', '_')\n",
    "\n",
    "for col in list(df.dtypes[df.dtypes != 'object'].index):\n",
    "    df[col] = df[col].fillna(0)"
   ]
  },
  {
   "cell_type": "code",
   "execution_count": 20,
   "id": "18c2e470-73fa-497f-bae7-5fd230b6ef8c",
   "metadata": {},
   "outputs": [
    {
     "data": {
      "text/html": [
       "<div>\n",
       "<style scoped>\n",
       "    .dataframe tbody tr th:only-of-type {\n",
       "        vertical-align: middle;\n",
       "    }\n",
       "\n",
       "    .dataframe tbody tr th {\n",
       "        vertical-align: top;\n",
       "    }\n",
       "\n",
       "    .dataframe thead th {\n",
       "        text-align: right;\n",
       "    }\n",
       "</style>\n",
       "<table border=\"1\" class=\"dataframe\">\n",
       "  <thead>\n",
       "    <tr style=\"text-align: right;\">\n",
       "      <th></th>\n",
       "      <th>Make</th>\n",
       "      <th>Model</th>\n",
       "      <th>Year</th>\n",
       "      <th>Engine HP</th>\n",
       "      <th>Engine Cylinders</th>\n",
       "      <th>Transmission Type</th>\n",
       "      <th>Vehicle Style</th>\n",
       "      <th>highway MPG</th>\n",
       "      <th>city mpg</th>\n",
       "      <th>MSRP</th>\n",
       "    </tr>\n",
       "  </thead>\n",
       "  <tbody>\n",
       "    <tr>\n",
       "      <th>0</th>\n",
       "      <td>bmw</td>\n",
       "      <td>1_series_m</td>\n",
       "      <td>2011</td>\n",
       "      <td>335.0</td>\n",
       "      <td>6.0</td>\n",
       "      <td>manual</td>\n",
       "      <td>coupe</td>\n",
       "      <td>26</td>\n",
       "      <td>19</td>\n",
       "      <td>46135</td>\n",
       "    </tr>\n",
       "    <tr>\n",
       "      <th>1</th>\n",
       "      <td>bmw</td>\n",
       "      <td>1_series</td>\n",
       "      <td>2011</td>\n",
       "      <td>300.0</td>\n",
       "      <td>6.0</td>\n",
       "      <td>manual</td>\n",
       "      <td>convertible</td>\n",
       "      <td>28</td>\n",
       "      <td>19</td>\n",
       "      <td>40650</td>\n",
       "    </tr>\n",
       "    <tr>\n",
       "      <th>2</th>\n",
       "      <td>bmw</td>\n",
       "      <td>1_series</td>\n",
       "      <td>2011</td>\n",
       "      <td>300.0</td>\n",
       "      <td>6.0</td>\n",
       "      <td>manual</td>\n",
       "      <td>coupe</td>\n",
       "      <td>28</td>\n",
       "      <td>20</td>\n",
       "      <td>36350</td>\n",
       "    </tr>\n",
       "    <tr>\n",
       "      <th>3</th>\n",
       "      <td>bmw</td>\n",
       "      <td>1_series</td>\n",
       "      <td>2011</td>\n",
       "      <td>230.0</td>\n",
       "      <td>6.0</td>\n",
       "      <td>manual</td>\n",
       "      <td>coupe</td>\n",
       "      <td>28</td>\n",
       "      <td>18</td>\n",
       "      <td>29450</td>\n",
       "    </tr>\n",
       "    <tr>\n",
       "      <th>4</th>\n",
       "      <td>bmw</td>\n",
       "      <td>1_series</td>\n",
       "      <td>2011</td>\n",
       "      <td>230.0</td>\n",
       "      <td>6.0</td>\n",
       "      <td>manual</td>\n",
       "      <td>convertible</td>\n",
       "      <td>28</td>\n",
       "      <td>18</td>\n",
       "      <td>34500</td>\n",
       "    </tr>\n",
       "    <tr>\n",
       "      <th>...</th>\n",
       "      <td>...</td>\n",
       "      <td>...</td>\n",
       "      <td>...</td>\n",
       "      <td>...</td>\n",
       "      <td>...</td>\n",
       "      <td>...</td>\n",
       "      <td>...</td>\n",
       "      <td>...</td>\n",
       "      <td>...</td>\n",
       "      <td>...</td>\n",
       "    </tr>\n",
       "    <tr>\n",
       "      <th>11909</th>\n",
       "      <td>acura</td>\n",
       "      <td>zdx</td>\n",
       "      <td>2012</td>\n",
       "      <td>300.0</td>\n",
       "      <td>6.0</td>\n",
       "      <td>automatic</td>\n",
       "      <td>4dr_hatchback</td>\n",
       "      <td>23</td>\n",
       "      <td>16</td>\n",
       "      <td>46120</td>\n",
       "    </tr>\n",
       "    <tr>\n",
       "      <th>11910</th>\n",
       "      <td>acura</td>\n",
       "      <td>zdx</td>\n",
       "      <td>2012</td>\n",
       "      <td>300.0</td>\n",
       "      <td>6.0</td>\n",
       "      <td>automatic</td>\n",
       "      <td>4dr_hatchback</td>\n",
       "      <td>23</td>\n",
       "      <td>16</td>\n",
       "      <td>56670</td>\n",
       "    </tr>\n",
       "    <tr>\n",
       "      <th>11911</th>\n",
       "      <td>acura</td>\n",
       "      <td>zdx</td>\n",
       "      <td>2012</td>\n",
       "      <td>300.0</td>\n",
       "      <td>6.0</td>\n",
       "      <td>automatic</td>\n",
       "      <td>4dr_hatchback</td>\n",
       "      <td>23</td>\n",
       "      <td>16</td>\n",
       "      <td>50620</td>\n",
       "    </tr>\n",
       "    <tr>\n",
       "      <th>11912</th>\n",
       "      <td>acura</td>\n",
       "      <td>zdx</td>\n",
       "      <td>2013</td>\n",
       "      <td>300.0</td>\n",
       "      <td>6.0</td>\n",
       "      <td>automatic</td>\n",
       "      <td>4dr_hatchback</td>\n",
       "      <td>23</td>\n",
       "      <td>16</td>\n",
       "      <td>50920</td>\n",
       "    </tr>\n",
       "    <tr>\n",
       "      <th>11913</th>\n",
       "      <td>lincoln</td>\n",
       "      <td>zephyr</td>\n",
       "      <td>2006</td>\n",
       "      <td>221.0</td>\n",
       "      <td>6.0</td>\n",
       "      <td>automatic</td>\n",
       "      <td>sedan</td>\n",
       "      <td>26</td>\n",
       "      <td>17</td>\n",
       "      <td>28995</td>\n",
       "    </tr>\n",
       "  </tbody>\n",
       "</table>\n",
       "<p>11914 rows × 10 columns</p>\n",
       "</div>"
      ],
      "text/plain": [
       "          Make       Model  Year  Engine HP  Engine Cylinders  \\\n",
       "0          bmw  1_series_m  2011      335.0               6.0   \n",
       "1          bmw    1_series  2011      300.0               6.0   \n",
       "2          bmw    1_series  2011      300.0               6.0   \n",
       "3          bmw    1_series  2011      230.0               6.0   \n",
       "4          bmw    1_series  2011      230.0               6.0   \n",
       "...        ...         ...   ...        ...               ...   \n",
       "11909    acura         zdx  2012      300.0               6.0   \n",
       "11910    acura         zdx  2012      300.0               6.0   \n",
       "11911    acura         zdx  2012      300.0               6.0   \n",
       "11912    acura         zdx  2013      300.0               6.0   \n",
       "11913  lincoln      zephyr  2006      221.0               6.0   \n",
       "\n",
       "      Transmission Type  Vehicle Style  highway MPG  city mpg   MSRP  \n",
       "0                manual          coupe           26        19  46135  \n",
       "1                manual    convertible           28        19  40650  \n",
       "2                manual          coupe           28        20  36350  \n",
       "3                manual          coupe           28        18  29450  \n",
       "4                manual    convertible           28        18  34500  \n",
       "...                 ...            ...          ...       ...    ...  \n",
       "11909         automatic  4dr_hatchback           23        16  46120  \n",
       "11910         automatic  4dr_hatchback           23        16  56670  \n",
       "11911         automatic  4dr_hatchback           23        16  50620  \n",
       "11912         automatic  4dr_hatchback           23        16  50920  \n",
       "11913         automatic          sedan           26        17  28995  \n",
       "\n",
       "[11914 rows x 10 columns]"
      ]
     },
     "execution_count": 20,
     "metadata": {},
     "output_type": "execute_result"
    }
   ],
   "source": [
    "df"
   ]
  },
  {
   "cell_type": "code",
   "execution_count": 21,
   "id": "cc2aa5a2-5c3c-4f34-95b6-d0e18b5c7164",
   "metadata": {},
   "outputs": [],
   "source": [
    "avg_price = df['MSRP'].mean()\n",
    "df['above_average'] = df['MSRP'].apply(lambda x: 1 if x>avg_price else 0)"
   ]
  },
  {
   "cell_type": "code",
   "execution_count": 22,
   "id": "114b8766-ac54-4169-9162-cd28815b22c9",
   "metadata": {},
   "outputs": [
    {
     "data": {
      "text/html": [
       "<div>\n",
       "<style scoped>\n",
       "    .dataframe tbody tr th:only-of-type {\n",
       "        vertical-align: middle;\n",
       "    }\n",
       "\n",
       "    .dataframe tbody tr th {\n",
       "        vertical-align: top;\n",
       "    }\n",
       "\n",
       "    .dataframe thead th {\n",
       "        text-align: right;\n",
       "    }\n",
       "</style>\n",
       "<table border=\"1\" class=\"dataframe\">\n",
       "  <thead>\n",
       "    <tr style=\"text-align: right;\">\n",
       "      <th></th>\n",
       "      <th>above_average</th>\n",
       "      <th>MSRP</th>\n",
       "    </tr>\n",
       "  </thead>\n",
       "  <tbody>\n",
       "    <tr>\n",
       "      <th>0</th>\n",
       "      <td>1</td>\n",
       "      <td>46135</td>\n",
       "    </tr>\n",
       "    <tr>\n",
       "      <th>1</th>\n",
       "      <td>1</td>\n",
       "      <td>40650</td>\n",
       "    </tr>\n",
       "    <tr>\n",
       "      <th>2</th>\n",
       "      <td>0</td>\n",
       "      <td>36350</td>\n",
       "    </tr>\n",
       "    <tr>\n",
       "      <th>3</th>\n",
       "      <td>0</td>\n",
       "      <td>29450</td>\n",
       "    </tr>\n",
       "    <tr>\n",
       "      <th>4</th>\n",
       "      <td>0</td>\n",
       "      <td>34500</td>\n",
       "    </tr>\n",
       "    <tr>\n",
       "      <th>...</th>\n",
       "      <td>...</td>\n",
       "      <td>...</td>\n",
       "    </tr>\n",
       "    <tr>\n",
       "      <th>11909</th>\n",
       "      <td>1</td>\n",
       "      <td>46120</td>\n",
       "    </tr>\n",
       "    <tr>\n",
       "      <th>11910</th>\n",
       "      <td>1</td>\n",
       "      <td>56670</td>\n",
       "    </tr>\n",
       "    <tr>\n",
       "      <th>11911</th>\n",
       "      <td>1</td>\n",
       "      <td>50620</td>\n",
       "    </tr>\n",
       "    <tr>\n",
       "      <th>11912</th>\n",
       "      <td>1</td>\n",
       "      <td>50920</td>\n",
       "    </tr>\n",
       "    <tr>\n",
       "      <th>11913</th>\n",
       "      <td>0</td>\n",
       "      <td>28995</td>\n",
       "    </tr>\n",
       "  </tbody>\n",
       "</table>\n",
       "<p>11914 rows × 2 columns</p>\n",
       "</div>"
      ],
      "text/plain": [
       "       above_average   MSRP\n",
       "0                  1  46135\n",
       "1                  1  40650\n",
       "2                  0  36350\n",
       "3                  0  29450\n",
       "4                  0  34500\n",
       "...              ...    ...\n",
       "11909              1  46120\n",
       "11910              1  56670\n",
       "11911              1  50620\n",
       "11912              1  50920\n",
       "11913              0  28995\n",
       "\n",
       "[11914 rows x 2 columns]"
      ]
     },
     "execution_count": 22,
     "metadata": {},
     "output_type": "execute_result"
    }
   ],
   "source": [
    "df[['above_average','MSRP']]"
   ]
  },
  {
   "cell_type": "code",
   "execution_count": 23,
   "id": "6d7c8ff9-59a1-4233-989a-491d8159ec5c",
   "metadata": {},
   "outputs": [
    {
     "data": {
      "text/plain": [
       "(9531, 2383)"
      ]
     },
     "execution_count": 23,
     "metadata": {},
     "output_type": "execute_result"
    }
   ],
   "source": [
    "df_full_train, df_test = train_test_split(df, test_size = 0.2, random_state=1)\n",
    "len(df_full_train), len(df_test)"
   ]
  },
  {
   "cell_type": "code",
   "execution_count": 24,
   "id": "883dc8e0-834b-4a29-be00-5b9d62d9cae0",
   "metadata": {},
   "outputs": [
    {
     "data": {
      "text/plain": [
       "(7148, 2383, 2383)"
      ]
     },
     "execution_count": 24,
     "metadata": {},
     "output_type": "execute_result"
    }
   ],
   "source": [
    "df_train, df_val = train_test_split(df_full_train, test_size = 0.25, random_state=1)\n",
    "len(df_train), len(df_val), len(df_test)"
   ]
  },
  {
   "cell_type": "code",
   "execution_count": 25,
   "id": "3530b4b4-85dd-4aaf-8983-f427722f29ed",
   "metadata": {},
   "outputs": [],
   "source": [
    "df_train = df_train.reset_index(drop=True)\n",
    "df_val = df_val.reset_index(drop=True)\n",
    "df_test = df_test.reset_index(drop=True)"
   ]
  },
  {
   "cell_type": "code",
   "execution_count": 26,
   "id": "93cbd683-b000-407d-a421-deed3c65b433",
   "metadata": {},
   "outputs": [],
   "source": [
    "y_train = df_train.above_average.values\n",
    "y_val = df_val.above_average.values\n",
    "y_test = df_test.above_average.values"
   ]
  },
  {
   "cell_type": "code",
   "execution_count": 27,
   "id": "2ffb69d1-a49d-42bc-9b28-4b3a31496f64",
   "metadata": {},
   "outputs": [],
   "source": [
    "del df_train['above_average']\n",
    "del df_val['above_average']\n",
    "del df_test['above_average']\n",
    "del df_train['MSRP']\n",
    "del df_val['MSRP']\n",
    "del df_test['MSRP']"
   ]
  },
  {
   "cell_type": "code",
   "execution_count": 32,
   "id": "e72ec3a6-3740-40b4-96a8-de11857b1a92",
   "metadata": {},
   "outputs": [
    {
     "data": {
      "text/html": [
       "<div>\n",
       "<style scoped>\n",
       "    .dataframe tbody tr th:only-of-type {\n",
       "        vertical-align: middle;\n",
       "    }\n",
       "\n",
       "    .dataframe tbody tr th {\n",
       "        vertical-align: top;\n",
       "    }\n",
       "\n",
       "    .dataframe thead th {\n",
       "        text-align: right;\n",
       "    }\n",
       "</style>\n",
       "<table border=\"1\" class=\"dataframe\">\n",
       "  <thead>\n",
       "    <tr style=\"text-align: right;\">\n",
       "      <th></th>\n",
       "      <th>Make</th>\n",
       "      <th>Model</th>\n",
       "      <th>Year</th>\n",
       "      <th>Engine HP</th>\n",
       "      <th>Engine Cylinders</th>\n",
       "      <th>Transmission Type</th>\n",
       "      <th>Vehicle Style</th>\n",
       "      <th>highway MPG</th>\n",
       "      <th>city mpg</th>\n",
       "    </tr>\n",
       "  </thead>\n",
       "  <tbody>\n",
       "    <tr>\n",
       "      <th>0</th>\n",
       "      <td>toyota</td>\n",
       "      <td>highlander_hybrid</td>\n",
       "      <td>2016</td>\n",
       "      <td>280.0</td>\n",
       "      <td>6.0</td>\n",
       "      <td>automatic</td>\n",
       "      <td>4dr_suv</td>\n",
       "      <td>28</td>\n",
       "      <td>27</td>\n",
       "    </tr>\n",
       "    <tr>\n",
       "      <th>1</th>\n",
       "      <td>chevrolet</td>\n",
       "      <td>impala_limited</td>\n",
       "      <td>2014</td>\n",
       "      <td>300.0</td>\n",
       "      <td>6.0</td>\n",
       "      <td>automatic</td>\n",
       "      <td>sedan</td>\n",
       "      <td>30</td>\n",
       "      <td>18</td>\n",
       "    </tr>\n",
       "    <tr>\n",
       "      <th>2</th>\n",
       "      <td>buick</td>\n",
       "      <td>regal</td>\n",
       "      <td>2016</td>\n",
       "      <td>259.0</td>\n",
       "      <td>4.0</td>\n",
       "      <td>automatic</td>\n",
       "      <td>sedan</td>\n",
       "      <td>27</td>\n",
       "      <td>19</td>\n",
       "    </tr>\n",
       "    <tr>\n",
       "      <th>3</th>\n",
       "      <td>volkswagen</td>\n",
       "      <td>cc</td>\n",
       "      <td>2015</td>\n",
       "      <td>280.0</td>\n",
       "      <td>6.0</td>\n",
       "      <td>automated_manual</td>\n",
       "      <td>sedan</td>\n",
       "      <td>25</td>\n",
       "      <td>17</td>\n",
       "    </tr>\n",
       "    <tr>\n",
       "      <th>4</th>\n",
       "      <td>dodge</td>\n",
       "      <td>grand_caravan</td>\n",
       "      <td>2016</td>\n",
       "      <td>283.0</td>\n",
       "      <td>6.0</td>\n",
       "      <td>automatic</td>\n",
       "      <td>passenger_minivan</td>\n",
       "      <td>25</td>\n",
       "      <td>17</td>\n",
       "    </tr>\n",
       "    <tr>\n",
       "      <th>...</th>\n",
       "      <td>...</td>\n",
       "      <td>...</td>\n",
       "      <td>...</td>\n",
       "      <td>...</td>\n",
       "      <td>...</td>\n",
       "      <td>...</td>\n",
       "      <td>...</td>\n",
       "      <td>...</td>\n",
       "      <td>...</td>\n",
       "    </tr>\n",
       "    <tr>\n",
       "      <th>7143</th>\n",
       "      <td>subaru</td>\n",
       "      <td>impreza</td>\n",
       "      <td>2015</td>\n",
       "      <td>148.0</td>\n",
       "      <td>4.0</td>\n",
       "      <td>manual</td>\n",
       "      <td>4dr_hatchback</td>\n",
       "      <td>33</td>\n",
       "      <td>24</td>\n",
       "    </tr>\n",
       "    <tr>\n",
       "      <th>7144</th>\n",
       "      <td>infiniti</td>\n",
       "      <td>qx50</td>\n",
       "      <td>2016</td>\n",
       "      <td>325.0</td>\n",
       "      <td>6.0</td>\n",
       "      <td>automatic</td>\n",
       "      <td>4dr_suv</td>\n",
       "      <td>24</td>\n",
       "      <td>17</td>\n",
       "    </tr>\n",
       "    <tr>\n",
       "      <th>7145</th>\n",
       "      <td>honda</td>\n",
       "      <td>fit</td>\n",
       "      <td>2017</td>\n",
       "      <td>130.0</td>\n",
       "      <td>4.0</td>\n",
       "      <td>automatic</td>\n",
       "      <td>4dr_hatchback</td>\n",
       "      <td>37</td>\n",
       "      <td>32</td>\n",
       "    </tr>\n",
       "    <tr>\n",
       "      <th>7146</th>\n",
       "      <td>audi</td>\n",
       "      <td>200</td>\n",
       "      <td>1991</td>\n",
       "      <td>162.0</td>\n",
       "      <td>5.0</td>\n",
       "      <td>automatic</td>\n",
       "      <td>sedan</td>\n",
       "      <td>20</td>\n",
       "      <td>16</td>\n",
       "    </tr>\n",
       "    <tr>\n",
       "      <th>7147</th>\n",
       "      <td>infiniti</td>\n",
       "      <td>qx4</td>\n",
       "      <td>2003</td>\n",
       "      <td>240.0</td>\n",
       "      <td>6.0</td>\n",
       "      <td>automatic</td>\n",
       "      <td>4dr_suv</td>\n",
       "      <td>18</td>\n",
       "      <td>14</td>\n",
       "    </tr>\n",
       "  </tbody>\n",
       "</table>\n",
       "<p>7148 rows × 9 columns</p>\n",
       "</div>"
      ],
      "text/plain": [
       "            Make              Model  Year  Engine HP  Engine Cylinders  \\\n",
       "0         toyota  highlander_hybrid  2016      280.0               6.0   \n",
       "1      chevrolet     impala_limited  2014      300.0               6.0   \n",
       "2          buick              regal  2016      259.0               4.0   \n",
       "3     volkswagen                 cc  2015      280.0               6.0   \n",
       "4          dodge      grand_caravan  2016      283.0               6.0   \n",
       "...          ...                ...   ...        ...               ...   \n",
       "7143      subaru            impreza  2015      148.0               4.0   \n",
       "7144    infiniti               qx50  2016      325.0               6.0   \n",
       "7145       honda                fit  2017      130.0               4.0   \n",
       "7146        audi                200  1991      162.0               5.0   \n",
       "7147    infiniti                qx4  2003      240.0               6.0   \n",
       "\n",
       "     Transmission Type      Vehicle Style  highway MPG  city mpg  \n",
       "0            automatic            4dr_suv           28        27  \n",
       "1            automatic              sedan           30        18  \n",
       "2            automatic              sedan           27        19  \n",
       "3     automated_manual              sedan           25        17  \n",
       "4            automatic  passenger_minivan           25        17  \n",
       "...                ...                ...          ...       ...  \n",
       "7143            manual      4dr_hatchback           33        24  \n",
       "7144         automatic            4dr_suv           24        17  \n",
       "7145         automatic      4dr_hatchback           37        32  \n",
       "7146         automatic              sedan           20        16  \n",
       "7147         automatic            4dr_suv           18        14  \n",
       "\n",
       "[7148 rows x 9 columns]"
      ]
     },
     "execution_count": 32,
     "metadata": {},
     "output_type": "execute_result"
    }
   ],
   "source": [
    "df_train"
   ]
  },
  {
   "cell_type": "code",
   "execution_count": 29,
   "id": "377e1a10-253d-4559-8c94-9c12cf91ddab",
   "metadata": {},
   "outputs": [],
   "source": [
    "from sklearn.metrics import roc_auc_score"
   ]
  },
  {
   "cell_type": "code",
   "execution_count": 30,
   "id": "93109f75-14cd-4efc-b9d8-24f628f76c0c",
   "metadata": {},
   "outputs": [],
   "source": [
    "numerical = ['Engine HP','Engine Cylinders','city mpg']"
   ]
  },
  {
   "cell_type": "code",
   "execution_count": 31,
   "id": "1d2549cf-b8df-445b-839a-70ce6e7dac57",
   "metadata": {},
   "outputs": [
    {
     "name": "stdout",
     "output_type": "stream",
     "text": [
      "For feature:  Engine HP ROC AUC is: 0.8570703331570597\n",
      "For feature:  Engine Cylinders ROC AUC is: 0.7298785843129937\n",
      "For feature:  city mpg ROC AUC is: 0.8636427271454571\n"
     ]
    }
   ],
   "source": [
    "for col in numerical:\n",
    "    model = LogisticRegression(max_iter=1000)\n",
    "    model.fit(df_train[col].values.reshape(-1,1),y_train) \n",
    "\n",
    "    preds = model.predict(df_train[col].values.reshape(-1,1))\n",
    "    roc_auc = roc_auc_score(preds, y_train)\n",
    "\n",
    "    print('For feature: ',col, 'ROC AUC is:', roc_auc)"
   ]
  },
  {
   "cell_type": "code",
   "execution_count": 31,
   "id": "86c2bf6d-4eee-4d34-bbf9-69f484f901d6",
   "metadata": {},
   "outputs": [],
   "source": [
    "### Question 1 : city mpg seems to have the highest AUC"
   ]
  },
  {
   "cell_type": "markdown",
   "id": "9a14dc88-e009-4880-b89b-57af7300a963",
   "metadata": {},
   "source": [
    "## Question 2"
   ]
  },
  {
   "cell_type": "code",
   "execution_count": 33,
   "id": "8e409683-62b5-4eaa-9201-720e4ac3a155",
   "metadata": {},
   "outputs": [],
   "source": [
    "train_dict = df_train.to_dict(orient='records')"
   ]
  },
  {
   "cell_type": "code",
   "execution_count": 34,
   "id": "24f96458-2fff-44f2-9216-1262c1d493a2",
   "metadata": {},
   "outputs": [],
   "source": [
    "dv = DictVectorizer(sparse=False)"
   ]
  },
  {
   "cell_type": "code",
   "execution_count": 35,
   "id": "df895ba8-b22e-403c-84a0-370b98bc4243",
   "metadata": {},
   "outputs": [],
   "source": [
    "X_train = dv.fit_transform(train_dict)"
   ]
  },
  {
   "cell_type": "code",
   "execution_count": 36,
   "id": "085c3056-83c2-408d-9651-f91d05b14e10",
   "metadata": {},
   "outputs": [],
   "source": [
    "val_dict = df_val.to_dict(orient='records')"
   ]
  },
  {
   "cell_type": "code",
   "execution_count": 37,
   "id": "2bc001ab-d3ed-47ae-a24b-01363eb741bd",
   "metadata": {},
   "outputs": [],
   "source": [
    "X_val = dv.transform(val_dict) "
   ]
  },
  {
   "cell_type": "code",
   "execution_count": 38,
   "id": "84e70cb7-f695-4c87-97b0-964f33a4982a",
   "metadata": {},
   "outputs": [
    {
     "data": {
      "text/html": [
       "<style>#sk-container-id-1 {color: black;background-color: white;}#sk-container-id-1 pre{padding: 0;}#sk-container-id-1 div.sk-toggleable {background-color: white;}#sk-container-id-1 label.sk-toggleable__label {cursor: pointer;display: block;width: 100%;margin-bottom: 0;padding: 0.3em;box-sizing: border-box;text-align: center;}#sk-container-id-1 label.sk-toggleable__label-arrow:before {content: \"▸\";float: left;margin-right: 0.25em;color: #696969;}#sk-container-id-1 label.sk-toggleable__label-arrow:hover:before {color: black;}#sk-container-id-1 div.sk-estimator:hover label.sk-toggleable__label-arrow:before {color: black;}#sk-container-id-1 div.sk-toggleable__content {max-height: 0;max-width: 0;overflow: hidden;text-align: left;background-color: #f0f8ff;}#sk-container-id-1 div.sk-toggleable__content pre {margin: 0.2em;color: black;border-radius: 0.25em;background-color: #f0f8ff;}#sk-container-id-1 input.sk-toggleable__control:checked~div.sk-toggleable__content {max-height: 200px;max-width: 100%;overflow: auto;}#sk-container-id-1 input.sk-toggleable__control:checked~label.sk-toggleable__label-arrow:before {content: \"▾\";}#sk-container-id-1 div.sk-estimator input.sk-toggleable__control:checked~label.sk-toggleable__label {background-color: #d4ebff;}#sk-container-id-1 div.sk-label input.sk-toggleable__control:checked~label.sk-toggleable__label {background-color: #d4ebff;}#sk-container-id-1 input.sk-hidden--visually {border: 0;clip: rect(1px 1px 1px 1px);clip: rect(1px, 1px, 1px, 1px);height: 1px;margin: -1px;overflow: hidden;padding: 0;position: absolute;width: 1px;}#sk-container-id-1 div.sk-estimator {font-family: monospace;background-color: #f0f8ff;border: 1px dotted black;border-radius: 0.25em;box-sizing: border-box;margin-bottom: 0.5em;}#sk-container-id-1 div.sk-estimator:hover {background-color: #d4ebff;}#sk-container-id-1 div.sk-parallel-item::after {content: \"\";width: 100%;border-bottom: 1px solid gray;flex-grow: 1;}#sk-container-id-1 div.sk-label:hover label.sk-toggleable__label {background-color: #d4ebff;}#sk-container-id-1 div.sk-serial::before {content: \"\";position: absolute;border-left: 1px solid gray;box-sizing: border-box;top: 0;bottom: 0;left: 50%;z-index: 0;}#sk-container-id-1 div.sk-serial {display: flex;flex-direction: column;align-items: center;background-color: white;padding-right: 0.2em;padding-left: 0.2em;position: relative;}#sk-container-id-1 div.sk-item {position: relative;z-index: 1;}#sk-container-id-1 div.sk-parallel {display: flex;align-items: stretch;justify-content: center;background-color: white;position: relative;}#sk-container-id-1 div.sk-item::before, #sk-container-id-1 div.sk-parallel-item::before {content: \"\";position: absolute;border-left: 1px solid gray;box-sizing: border-box;top: 0;bottom: 0;left: 50%;z-index: -1;}#sk-container-id-1 div.sk-parallel-item {display: flex;flex-direction: column;z-index: 1;position: relative;background-color: white;}#sk-container-id-1 div.sk-parallel-item:first-child::after {align-self: flex-end;width: 50%;}#sk-container-id-1 div.sk-parallel-item:last-child::after {align-self: flex-start;width: 50%;}#sk-container-id-1 div.sk-parallel-item:only-child::after {width: 0;}#sk-container-id-1 div.sk-dashed-wrapped {border: 1px dashed gray;margin: 0 0.4em 0.5em 0.4em;box-sizing: border-box;padding-bottom: 0.4em;background-color: white;}#sk-container-id-1 div.sk-label label {font-family: monospace;font-weight: bold;display: inline-block;line-height: 1.2em;}#sk-container-id-1 div.sk-label-container {text-align: center;}#sk-container-id-1 div.sk-container {/* jupyter's `normalize.less` sets `[hidden] { display: none; }` but bootstrap.min.css set `[hidden] { display: none !important; }` so we also need the `!important` here to be able to override the default hidden behavior on the sphinx rendered scikit-learn.org. See: https://github.com/scikit-learn/scikit-learn/issues/21755 */display: inline-block !important;position: relative;}#sk-container-id-1 div.sk-text-repr-fallback {display: none;}</style><div id=\"sk-container-id-1\" class=\"sk-top-container\"><div class=\"sk-text-repr-fallback\"><pre>LogisticRegression(max_iter=1000, solver=&#x27;liblinear&#x27;)</pre><b>In a Jupyter environment, please rerun this cell to show the HTML representation or trust the notebook. <br />On GitHub, the HTML representation is unable to render, please try loading this page with nbviewer.org.</b></div><div class=\"sk-container\" hidden><div class=\"sk-item\"><div class=\"sk-estimator sk-toggleable\"><input class=\"sk-toggleable__control sk-hidden--visually\" id=\"sk-estimator-id-1\" type=\"checkbox\" checked><label for=\"sk-estimator-id-1\" class=\"sk-toggleable__label sk-toggleable__label-arrow\">LogisticRegression</label><div class=\"sk-toggleable__content\"><pre>LogisticRegression(max_iter=1000, solver=&#x27;liblinear&#x27;)</pre></div></div></div></div></div>"
      ],
      "text/plain": [
       "LogisticRegression(max_iter=1000, solver='liblinear')"
      ]
     },
     "execution_count": 38,
     "metadata": {},
     "output_type": "execute_result"
    }
   ],
   "source": [
    "model = LogisticRegression(solver='liblinear', C=1.0, max_iter=1000)\n",
    "model.fit(X_train,y_train)"
   ]
  },
  {
   "cell_type": "code",
   "execution_count": 39,
   "id": "f4961c9b-c746-434b-9e69-ade298d06995",
   "metadata": {},
   "outputs": [],
   "source": [
    "y_pred = model.predict_proba(X_val)[:,1]"
   ]
  },
  {
   "cell_type": "code",
   "execution_count": 40,
   "id": "1ec1aef5-562a-4be0-8381-3979a1d7ad83",
   "metadata": {},
   "outputs": [
    {
     "data": {
      "text/plain": [
       "array([1, 0, 0, ..., 0, 1, 0])"
      ]
     },
     "execution_count": 40,
     "metadata": {},
     "output_type": "execute_result"
    }
   ],
   "source": [
    "decision = (y_pred >= 0.5).astype(int)\n",
    "decision"
   ]
  },
  {
   "cell_type": "code",
   "execution_count": 41,
   "id": "2ea947b0-cf3d-4472-ad20-a1e1745f2522",
   "metadata": {},
   "outputs": [
    {
     "data": {
      "text/plain": [
       "0.919"
      ]
     },
     "execution_count": 41,
     "metadata": {},
     "output_type": "execute_result"
    }
   ],
   "source": [
    "roc_auc = round(roc_auc_score(decision, y_val),3)\n",
    "roc_auc"
   ]
  },
  {
   "cell_type": "code",
   "execution_count": null,
   "id": "f70944ab-a398-44aa-a579-b05947a3cbd2",
   "metadata": {},
   "outputs": [],
   "source": [
    "### It seems close to 0.979"
   ]
  },
  {
   "cell_type": "markdown",
   "id": "028a861f-35c7-4356-a62e-b625ca9f623f",
   "metadata": {},
   "source": [
    "## Question 3"
   ]
  },
  {
   "cell_type": "code",
   "execution_count": 42,
   "id": "54ae1625-85eb-4819-b785-a6306662157e",
   "metadata": {},
   "outputs": [],
   "source": [
    "scores = []\n",
    "thresholds = np.linspace(0,1,101)\n",
    "for t in thresholds:\n",
    "\n",
    "    actual_positive = (y_val==1)\n",
    "    actual_negative = (y_val==0)\n",
    "    predict_positive = (y_pred>=t)\n",
    "    predict_negative = (y_pred<t)\n",
    "\n",
    "    tp = (predict_positive & actual_positive).sum()\n",
    "    tn = (predict_negative & actual_negative).sum()\n",
    "    fp = (predict_positive & actual_negative).sum()\n",
    "    fn = (predict_negative & actual_positive).sum()\n",
    "\n",
    "    tpr = (tp)/(tp+fn)\n",
    "    fpr = (fp)/(tn+fp)\n",
    "\n",
    "    scores.append((t,tp,fp,fn,tn, tpr, fpr))"
   ]
  },
  {
   "cell_type": "code",
   "execution_count": 43,
   "id": "a9061d6c-6eee-46f1-b1f1-71ec2e94ac9d",
   "metadata": {},
   "outputs": [
    {
     "data": {
      "text/html": [
       "<div>\n",
       "<style scoped>\n",
       "    .dataframe tbody tr th:only-of-type {\n",
       "        vertical-align: middle;\n",
       "    }\n",
       "\n",
       "    .dataframe tbody tr th {\n",
       "        vertical-align: top;\n",
       "    }\n",
       "\n",
       "    .dataframe thead th {\n",
       "        text-align: right;\n",
       "    }\n",
       "</style>\n",
       "<table border=\"1\" class=\"dataframe\">\n",
       "  <thead>\n",
       "    <tr style=\"text-align: right;\">\n",
       "      <th></th>\n",
       "      <th>threshold</th>\n",
       "      <th>tp</th>\n",
       "      <th>fp</th>\n",
       "      <th>fn</th>\n",
       "      <th>tn</th>\n",
       "      <th>tpr</th>\n",
       "      <th>fpr</th>\n",
       "    </tr>\n",
       "  </thead>\n",
       "  <tbody>\n",
       "    <tr>\n",
       "      <th>0</th>\n",
       "      <td>0.00</td>\n",
       "      <td>654</td>\n",
       "      <td>1729</td>\n",
       "      <td>0</td>\n",
       "      <td>0</td>\n",
       "      <td>1.000000</td>\n",
       "      <td>1.000000</td>\n",
       "    </tr>\n",
       "    <tr>\n",
       "      <th>1</th>\n",
       "      <td>0.01</td>\n",
       "      <td>652</td>\n",
       "      <td>854</td>\n",
       "      <td>2</td>\n",
       "      <td>875</td>\n",
       "      <td>0.996942</td>\n",
       "      <td>0.493927</td>\n",
       "    </tr>\n",
       "    <tr>\n",
       "      <th>2</th>\n",
       "      <td>0.02</td>\n",
       "      <td>651</td>\n",
       "      <td>702</td>\n",
       "      <td>3</td>\n",
       "      <td>1027</td>\n",
       "      <td>0.995413</td>\n",
       "      <td>0.406015</td>\n",
       "    </tr>\n",
       "    <tr>\n",
       "      <th>3</th>\n",
       "      <td>0.03</td>\n",
       "      <td>651</td>\n",
       "      <td>618</td>\n",
       "      <td>3</td>\n",
       "      <td>1111</td>\n",
       "      <td>0.995413</td>\n",
       "      <td>0.357432</td>\n",
       "    </tr>\n",
       "    <tr>\n",
       "      <th>4</th>\n",
       "      <td>0.04</td>\n",
       "      <td>650</td>\n",
       "      <td>559</td>\n",
       "      <td>4</td>\n",
       "      <td>1170</td>\n",
       "      <td>0.993884</td>\n",
       "      <td>0.323308</td>\n",
       "    </tr>\n",
       "    <tr>\n",
       "      <th>...</th>\n",
       "      <td>...</td>\n",
       "      <td>...</td>\n",
       "      <td>...</td>\n",
       "      <td>...</td>\n",
       "      <td>...</td>\n",
       "      <td>...</td>\n",
       "      <td>...</td>\n",
       "    </tr>\n",
       "    <tr>\n",
       "      <th>96</th>\n",
       "      <td>0.96</td>\n",
       "      <td>254</td>\n",
       "      <td>1</td>\n",
       "      <td>400</td>\n",
       "      <td>1728</td>\n",
       "      <td>0.388379</td>\n",
       "      <td>0.000578</td>\n",
       "    </tr>\n",
       "    <tr>\n",
       "      <th>97</th>\n",
       "      <td>0.97</td>\n",
       "      <td>241</td>\n",
       "      <td>0</td>\n",
       "      <td>413</td>\n",
       "      <td>1729</td>\n",
       "      <td>0.368502</td>\n",
       "      <td>0.000000</td>\n",
       "    </tr>\n",
       "    <tr>\n",
       "      <th>98</th>\n",
       "      <td>0.98</td>\n",
       "      <td>217</td>\n",
       "      <td>0</td>\n",
       "      <td>437</td>\n",
       "      <td>1729</td>\n",
       "      <td>0.331804</td>\n",
       "      <td>0.000000</td>\n",
       "    </tr>\n",
       "    <tr>\n",
       "      <th>99</th>\n",
       "      <td>0.99</td>\n",
       "      <td>184</td>\n",
       "      <td>0</td>\n",
       "      <td>470</td>\n",
       "      <td>1729</td>\n",
       "      <td>0.281346</td>\n",
       "      <td>0.000000</td>\n",
       "    </tr>\n",
       "    <tr>\n",
       "      <th>100</th>\n",
       "      <td>1.00</td>\n",
       "      <td>0</td>\n",
       "      <td>0</td>\n",
       "      <td>654</td>\n",
       "      <td>1729</td>\n",
       "      <td>0.000000</td>\n",
       "      <td>0.000000</td>\n",
       "    </tr>\n",
       "  </tbody>\n",
       "</table>\n",
       "<p>101 rows × 7 columns</p>\n",
       "</div>"
      ],
      "text/plain": [
       "     threshold   tp    fp   fn    tn       tpr       fpr\n",
       "0         0.00  654  1729    0     0  1.000000  1.000000\n",
       "1         0.01  652   854    2   875  0.996942  0.493927\n",
       "2         0.02  651   702    3  1027  0.995413  0.406015\n",
       "3         0.03  651   618    3  1111  0.995413  0.357432\n",
       "4         0.04  650   559    4  1170  0.993884  0.323308\n",
       "..         ...  ...   ...  ...   ...       ...       ...\n",
       "96        0.96  254     1  400  1728  0.388379  0.000578\n",
       "97        0.97  241     0  413  1729  0.368502  0.000000\n",
       "98        0.98  217     0  437  1729  0.331804  0.000000\n",
       "99        0.99  184     0  470  1729  0.281346  0.000000\n",
       "100       1.00    0     0  654  1729  0.000000  0.000000\n",
       "\n",
       "[101 rows x 7 columns]"
      ]
     },
     "execution_count": 43,
     "metadata": {},
     "output_type": "execute_result"
    }
   ],
   "source": [
    "columns = ['threshold','tp','fp','fn','tn','tpr','fpr']\n",
    "df_scores = pd.DataFrame(scores, columns=columns)\n",
    "df_scores"
   ]
  },
  {
   "cell_type": "code",
   "execution_count": 44,
   "id": "df923cb6-7a9a-4724-bb7c-dab90fd7be56",
   "metadata": {},
   "outputs": [],
   "source": [
    "df_scores['precision'] = df_scores.tp/(df_scores.tp+df_scores.fp)"
   ]
  },
  {
   "cell_type": "code",
   "execution_count": 45,
   "id": "a6d76f00-c24b-45f3-a402-7bd5977cab26",
   "metadata": {},
   "outputs": [],
   "source": [
    "df_scores['recall'] =  df_scores.tp/(df_scores.tp + df_scores.fn)"
   ]
  },
  {
   "cell_type": "code",
   "execution_count": 46,
   "id": "64313a79-4121-4790-a09a-a425a2f379f7",
   "metadata": {},
   "outputs": [
    {
     "data": {
      "text/html": [
       "<div>\n",
       "<style scoped>\n",
       "    .dataframe tbody tr th:only-of-type {\n",
       "        vertical-align: middle;\n",
       "    }\n",
       "\n",
       "    .dataframe tbody tr th {\n",
       "        vertical-align: top;\n",
       "    }\n",
       "\n",
       "    .dataframe thead th {\n",
       "        text-align: right;\n",
       "    }\n",
       "</style>\n",
       "<table border=\"1\" class=\"dataframe\">\n",
       "  <thead>\n",
       "    <tr style=\"text-align: right;\">\n",
       "      <th></th>\n",
       "      <th>threshold</th>\n",
       "      <th>tp</th>\n",
       "      <th>fp</th>\n",
       "      <th>fn</th>\n",
       "      <th>tn</th>\n",
       "      <th>tpr</th>\n",
       "      <th>fpr</th>\n",
       "      <th>precision</th>\n",
       "      <th>recall</th>\n",
       "    </tr>\n",
       "  </thead>\n",
       "  <tbody>\n",
       "    <tr>\n",
       "      <th>0</th>\n",
       "      <td>0.00</td>\n",
       "      <td>654</td>\n",
       "      <td>1729</td>\n",
       "      <td>0</td>\n",
       "      <td>0</td>\n",
       "      <td>1.000000</td>\n",
       "      <td>1.000000</td>\n",
       "      <td>0.274444</td>\n",
       "      <td>1.000000</td>\n",
       "    </tr>\n",
       "    <tr>\n",
       "      <th>1</th>\n",
       "      <td>0.01</td>\n",
       "      <td>652</td>\n",
       "      <td>854</td>\n",
       "      <td>2</td>\n",
       "      <td>875</td>\n",
       "      <td>0.996942</td>\n",
       "      <td>0.493927</td>\n",
       "      <td>0.432935</td>\n",
       "      <td>0.996942</td>\n",
       "    </tr>\n",
       "    <tr>\n",
       "      <th>2</th>\n",
       "      <td>0.02</td>\n",
       "      <td>651</td>\n",
       "      <td>702</td>\n",
       "      <td>3</td>\n",
       "      <td>1027</td>\n",
       "      <td>0.995413</td>\n",
       "      <td>0.406015</td>\n",
       "      <td>0.481153</td>\n",
       "      <td>0.995413</td>\n",
       "    </tr>\n",
       "    <tr>\n",
       "      <th>3</th>\n",
       "      <td>0.03</td>\n",
       "      <td>651</td>\n",
       "      <td>618</td>\n",
       "      <td>3</td>\n",
       "      <td>1111</td>\n",
       "      <td>0.995413</td>\n",
       "      <td>0.357432</td>\n",
       "      <td>0.513002</td>\n",
       "      <td>0.995413</td>\n",
       "    </tr>\n",
       "    <tr>\n",
       "      <th>4</th>\n",
       "      <td>0.04</td>\n",
       "      <td>650</td>\n",
       "      <td>559</td>\n",
       "      <td>4</td>\n",
       "      <td>1170</td>\n",
       "      <td>0.993884</td>\n",
       "      <td>0.323308</td>\n",
       "      <td>0.537634</td>\n",
       "      <td>0.993884</td>\n",
       "    </tr>\n",
       "    <tr>\n",
       "      <th>...</th>\n",
       "      <td>...</td>\n",
       "      <td>...</td>\n",
       "      <td>...</td>\n",
       "      <td>...</td>\n",
       "      <td>...</td>\n",
       "      <td>...</td>\n",
       "      <td>...</td>\n",
       "      <td>...</td>\n",
       "      <td>...</td>\n",
       "    </tr>\n",
       "    <tr>\n",
       "      <th>96</th>\n",
       "      <td>0.96</td>\n",
       "      <td>254</td>\n",
       "      <td>1</td>\n",
       "      <td>400</td>\n",
       "      <td>1728</td>\n",
       "      <td>0.388379</td>\n",
       "      <td>0.000578</td>\n",
       "      <td>0.996078</td>\n",
       "      <td>0.388379</td>\n",
       "    </tr>\n",
       "    <tr>\n",
       "      <th>97</th>\n",
       "      <td>0.97</td>\n",
       "      <td>241</td>\n",
       "      <td>0</td>\n",
       "      <td>413</td>\n",
       "      <td>1729</td>\n",
       "      <td>0.368502</td>\n",
       "      <td>0.000000</td>\n",
       "      <td>1.000000</td>\n",
       "      <td>0.368502</td>\n",
       "    </tr>\n",
       "    <tr>\n",
       "      <th>98</th>\n",
       "      <td>0.98</td>\n",
       "      <td>217</td>\n",
       "      <td>0</td>\n",
       "      <td>437</td>\n",
       "      <td>1729</td>\n",
       "      <td>0.331804</td>\n",
       "      <td>0.000000</td>\n",
       "      <td>1.000000</td>\n",
       "      <td>0.331804</td>\n",
       "    </tr>\n",
       "    <tr>\n",
       "      <th>99</th>\n",
       "      <td>0.99</td>\n",
       "      <td>184</td>\n",
       "      <td>0</td>\n",
       "      <td>470</td>\n",
       "      <td>1729</td>\n",
       "      <td>0.281346</td>\n",
       "      <td>0.000000</td>\n",
       "      <td>1.000000</td>\n",
       "      <td>0.281346</td>\n",
       "    </tr>\n",
       "    <tr>\n",
       "      <th>100</th>\n",
       "      <td>1.00</td>\n",
       "      <td>0</td>\n",
       "      <td>0</td>\n",
       "      <td>654</td>\n",
       "      <td>1729</td>\n",
       "      <td>0.000000</td>\n",
       "      <td>0.000000</td>\n",
       "      <td>NaN</td>\n",
       "      <td>0.000000</td>\n",
       "    </tr>\n",
       "  </tbody>\n",
       "</table>\n",
       "<p>101 rows × 9 columns</p>\n",
       "</div>"
      ],
      "text/plain": [
       "     threshold   tp    fp   fn    tn       tpr       fpr  precision    recall\n",
       "0         0.00  654  1729    0     0  1.000000  1.000000   0.274444  1.000000\n",
       "1         0.01  652   854    2   875  0.996942  0.493927   0.432935  0.996942\n",
       "2         0.02  651   702    3  1027  0.995413  0.406015   0.481153  0.995413\n",
       "3         0.03  651   618    3  1111  0.995413  0.357432   0.513002  0.995413\n",
       "4         0.04  650   559    4  1170  0.993884  0.323308   0.537634  0.993884\n",
       "..         ...  ...   ...  ...   ...       ...       ...        ...       ...\n",
       "96        0.96  254     1  400  1728  0.388379  0.000578   0.996078  0.388379\n",
       "97        0.97  241     0  413  1729  0.368502  0.000000   1.000000  0.368502\n",
       "98        0.98  217     0  437  1729  0.331804  0.000000   1.000000  0.331804\n",
       "99        0.99  184     0  470  1729  0.281346  0.000000   1.000000  0.281346\n",
       "100       1.00    0     0  654  1729  0.000000  0.000000        NaN  0.000000\n",
       "\n",
       "[101 rows x 9 columns]"
      ]
     },
     "execution_count": 46,
     "metadata": {},
     "output_type": "execute_result"
    }
   ],
   "source": [
    "df_scores"
   ]
  },
  {
   "cell_type": "code",
   "execution_count": 47,
   "id": "e6f4d625-2c00-477f-84bb-10d61aa0e022",
   "metadata": {},
   "outputs": [
    {
     "name": "stderr",
     "output_type": "stream",
     "text": [
      "No artists with labels found to put in legend.  Note that artists whose label start with an underscore are ignored when legend() is called with no argument.\n"
     ]
    },
    {
     "data": {
      "text/plain": [
       "<matplotlib.legend.Legend at 0x17b9be35010>"
      ]
     },
     "execution_count": 47,
     "metadata": {},
     "output_type": "execute_result"
    },
    {
     "data": {
      "image/png": "[encoded data removed]",
      "text/plain": [
       "<Figure size 640x480 with 1 Axes>"
      ]
     },
     "metadata": {},
     "output_type": "display_data"
    }
   ],
   "source": [
    "plt.plot(df_scores.precision)\n",
    "plt.plot(df_scores.recall)\n",
    "\n",
    "plt.legend()"
   ]
  },
  {
   "cell_type": "code",
   "execution_count": null,
   "id": "c77b5c79-7f4b-44e3-bd87-9eceed668d96",
   "metadata": {},
   "outputs": [],
   "source": [
    "### at 0.48"
   ]
  },
  {
   "cell_type": "markdown",
   "id": "5e99621d-f88b-4e6a-bd59-edad31b8e691",
   "metadata": {},
   "source": [
    "## Question 4"
   ]
  },
  {
   "cell_type": "code",
   "execution_count": 48,
   "id": "812b9d32-65e9-497f-8517-7f7de4b0cca1",
   "metadata": {},
   "outputs": [],
   "source": [
    "df_scores['F1'] = (2*df_scores.precision*df_scores.recall)/(df_scores.precision + df_scores.recall)"
   ]
  },
  {
   "cell_type": "code",
   "execution_count": 49,
   "id": "bf3f439c-c376-4ae2-adca-5f01465eeff0",
   "metadata": {},
   "outputs": [
    {
     "data": {
      "text/plain": [
       "0.8799380325329201"
      ]
     },
     "execution_count": 49,
     "metadata": {},
     "output_type": "execute_result"
    }
   ],
   "source": [
    "f1_max = df_scores['F1'].max()\n",
    "f1_max"
   ]
  },
  {
   "cell_type": "code",
   "execution_count": 50,
   "id": "74d47958-4740-45cc-b8c5-f10d1e0d8222",
   "metadata": {},
   "outputs": [
    {
     "data": {
      "text/html": [
       "<div>\n",
       "<style scoped>\n",
       "    .dataframe tbody tr th:only-of-type {\n",
       "        vertical-align: middle;\n",
       "    }\n",
       "\n",
       "    .dataframe tbody tr th {\n",
       "        vertical-align: top;\n",
       "    }\n",
       "\n",
       "    .dataframe thead th {\n",
       "        text-align: right;\n",
       "    }\n",
       "</style>\n",
       "<table border=\"1\" class=\"dataframe\">\n",
       "  <thead>\n",
       "    <tr style=\"text-align: right;\">\n",
       "      <th></th>\n",
       "      <th>threshold</th>\n",
       "      <th>tp</th>\n",
       "      <th>fp</th>\n",
       "      <th>fn</th>\n",
       "      <th>tn</th>\n",
       "      <th>tpr</th>\n",
       "      <th>fpr</th>\n",
       "      <th>precision</th>\n",
       "      <th>recall</th>\n",
       "      <th>F1</th>\n",
       "    </tr>\n",
       "  </thead>\n",
       "  <tbody>\n",
       "    <tr>\n",
       "      <th>51</th>\n",
       "      <td>0.51</td>\n",
       "      <td>568</td>\n",
       "      <td>69</td>\n",
       "      <td>86</td>\n",
       "      <td>1660</td>\n",
       "      <td>0.868502</td>\n",
       "      <td>0.039907</td>\n",
       "      <td>0.89168</td>\n",
       "      <td>0.868502</td>\n",
       "      <td>0.879938</td>\n",
       "    </tr>\n",
       "  </tbody>\n",
       "</table>\n",
       "</div>"
      ],
      "text/plain": [
       "    threshold   tp  fp  fn    tn       tpr       fpr  precision    recall  \\\n",
       "51       0.51  568  69  86  1660  0.868502  0.039907    0.89168  0.868502   \n",
       "\n",
       "          F1  \n",
       "51  0.879938  "
      ]
     },
     "execution_count": 50,
     "metadata": {},
     "output_type": "execute_result"
    }
   ],
   "source": [
    "df_scores[df_scores['F1']==f1_max]"
   ]
  },
  {
   "cell_type": "code",
   "execution_count": null,
   "id": "75fd96d3-a7e4-4dec-8f7f-3c44391f0d35",
   "metadata": {},
   "outputs": [],
   "source": [
    "# 0.52 appears correct for us"
   ]
  },
  {
   "cell_type": "markdown",
   "id": "d7de30b6-9884-4698-a068-a60634a919ea",
   "metadata": {},
   "source": [
    "## Question 5"
   ]
  },
  {
   "cell_type": "code",
   "execution_count": 51,
   "id": "8affe786-c8eb-44a8-aec8-9c401bcb1e57",
   "metadata": {},
   "outputs": [],
   "source": [
    "from sklearn.model_selection import KFold"
   ]
  },
  {
   "cell_type": "code",
   "execution_count": 53,
   "id": "e7290399-4487-447c-85e1-a5d0ec70ab00",
   "metadata": {},
   "outputs": [],
   "source": [
    "def train(df,y_train, C=1.0):\n",
    "    dicts = df.to_dict(orient='records')\n",
    "\n",
    "    dv = DictVectorizer(sparse=False)\n",
    "    X_train = dv.fit_transform(dicts)\n",
    "\n",
    "    model = LogisticRegression(solver='liblinear', max_iter=1000, C=C)\n",
    "    model.fit(X_train,y_train)\n",
    "\n",
    "    return dv, model"
   ]
  },
  {
   "cell_type": "code",
   "execution_count": 54,
   "id": "70aecfc2-6f83-4d65-9142-572f86f20679",
   "metadata": {},
   "outputs": [],
   "source": [
    "def predict(df, dv, model):\n",
    "   dicts = df.to_dict(orient='records')\n",
    "    \n",
    "   X = dv.transform(dicts)\n",
    "   y_pred = model.predict_proba(X)[:,1]\n",
    "\n",
    "   return y_pred "
   ]
  },
  {
   "cell_type": "code",
   "execution_count": 55,
   "id": "1acbab48-d4f1-4c15-a80d-466a23ae873d",
   "metadata": {},
   "outputs": [
    {
     "name": "stdout",
     "output_type": "stream",
     "text": [
      "1.000 +- 0.000\n"
     ]
    }
   ],
   "source": [
    "n_splits = 5\n",
    "kfold = KFold(n_splits=n_splits, shuffle=True, random_state=1)\n",
    "scores = []\n",
    "for train_idx, val_idx in kfold.split(df_full_train): \n",
    "    \n",
    "       df_train = df_full_train.iloc[train_idx]\n",
    "       df_val = df_full_train.iloc[val_idx]\n",
    "\n",
    "       y_train = df_train.above_average.values\n",
    "       y_val = df_val.above_average.values\n",
    "\n",
    "       dv, model = train(df_train, y_train, C=1.0)\n",
    "       y_pred = predict(df_val, dv, model)\n",
    "\n",
    "       auc = roc_auc_score(y_val, y_pred)\n",
    "       scores.append(auc)\n",
    "print('%.3f +- %.3f' % (np.mean(scores), np.std(scores)))"
   ]
  },
  {
   "cell_type": "code",
   "execution_count": 56,
   "id": "ab3c0719-ebc9-4c4d-b62a-f6a02b911d73",
   "metadata": {},
   "outputs": [
    {
     "data": {
      "text/plain": [
       "[0.9999917498556224,\n",
       " 0.9999986255882483,\n",
       " 0.9999986057665496,\n",
       " 0.9999999999999999,\n",
       " 0.9999986124986125]"
      ]
     },
     "execution_count": 56,
     "metadata": {},
     "output_type": "execute_result"
    }
   ],
   "source": [
    "scores"
   ]
  },
  {
   "cell_type": "code",
   "execution_count": 57,
   "id": "9ba12578-344c-4826-824d-5b9e3060e7bc",
   "metadata": {},
   "outputs": [],
   "source": [
    "### the smallest: 0.003"
   ]
  },
  {
   "cell_type": "markdown",
   "id": "c6f8abb3-e931-47ab-bb1f-197f5eb9e916",
   "metadata": {},
   "source": [
    "## Question 6"
   ]
  },
  {
   "cell_type": "code",
   "execution_count": 58,
   "id": "bbd1fe10-837a-46ec-83cd-e3656a240092",
   "metadata": {},
   "outputs": [],
   "source": [
    "from tqdm.auto import tqdm"
   ]
  },
  {
   "cell_type": "code",
   "execution_count": 63,
   "id": "814ea91a-d57e-4a68-a778-deb8e107c147",
   "metadata": {},
   "outputs": [
    {
     "data": {
      "application/vnd.jupyter.widget-view+json": {
       "model_id": "cf41f89902c746c987c31fa8ab6f5a97",
       "version_major": 2,
       "version_minor": 0
      },
      "text/plain": [
       "  0%|          | 0/4 [00:00<?, ?it/s]"
      ]
     },
     "metadata": {},
     "output_type": "display_data"
    },
    {
     "name": "stdout",
     "output_type": "stream",
     "text": [
      "(0.01, 0.9999975187418066, 2.933929986049027e-06)\n",
      "(0.1, 0.9999975187418066, 2.933929986013594e-06)\n",
      "(0.5, 0.9999975187418066, 2.9339299860572536e-06)\n",
      "(10, 0.9999975187418066, 2.933929986049027e-06)\n"
     ]
    }
   ],
   "source": [
    "n_splits = 5\n",
    "for C in tqdm([0.01, 0.1, 0.5, 10]):\n",
    "    kfold = KFold(n_splits=n_splits, shuffle=True, random_state=1)\n",
    "\n",
    "    scores = []\n",
    "\n",
    "    for train_idx, val_idx in kfold.split(df_full_train): \n",
    "\n",
    "       df_train = df_full_train.iloc[train_idx]\n",
    "       df_val = df_full_train.iloc[val_idx]\n",
    "\n",
    "       y_train = df_train.above_average.values\n",
    "       y_val = df_val.above_average.values\n",
    "\n",
    "       dv, model = train(df_train, y_train, C=C)\n",
    "       y_pred = predict(df_val, dv, model)\n",
    "\n",
    "       auc = roc_auc_score(y_val, y_pred)\n",
    "       scores.append(auc)\n",
    "    print((C, np.mean(scores), np.std(scores)))"
   ]
  },
  {
   "cell_type": "code",
   "execution_count": null,
   "id": "fb4b943a-a041-41ef-be74-27196a592e67",
   "metadata": {},
   "outputs": [],
   "source": [
    "# C = 0.1"
   ]
  }
 ],
 "metadata": {
  "kernelspec": {
   "display_name": "Python 3 (ipykernel)",
   "language": "python",
   "name": "python3"
  },
  "language_info": {
   "codemirror_mode": {
    "name": "ipython",
    "version": 3
   },
   "file_extension": ".py",
   "mimetype": "text/x-python",
   "name": "python",
   "nbconvert_exporter": "python",
   "pygments_lexer": "ipython3",
   "version": "3.11.5"
  }
 },
 "nbformat": 4,
 "nbformat_minor": 5
}
